{
  "nbformat": 4,
  "nbformat_minor": 0,
  "metadata": {
    "colab": {
      "name": "50_CNN_MSE_ADAM_100.ipynb",
      "provenance": [],
      "collapsed_sections": []
    },
    "kernelspec": {
      "display_name": "Python 3",
      "name": "python3"
    },
    "language_info": {
      "name": "python"
    }
  },
  "cells": [
    {
      "cell_type": "code",
      "metadata": {
        "colab": {
          "base_uri": "https://localhost:8080/"
        },
        "id": "lUiH76R0NO93",
        "outputId": "02249db2-e060-4269-b6c0-eeed0d5018c6"
      },
      "source": [
        "from google.colab import drive\n",
        "drive.mount('/content/drive')"
      ],
      "execution_count": null,
      "outputs": [
        {
          "output_type": "stream",
          "name": "stdout",
          "text": [
            "Mounted at /content/drive\n"
          ]
        }
      ]
    },
    {
      "cell_type": "code",
      "metadata": {
        "id": "9LrCrMBfNR8g"
      },
      "source": [
        "import os\n",
        "clean =\"/content/drive/MyDrive/50Input/50_Clean\"\n",
        "sharp = os.listdir(clean)"
      ],
      "execution_count": null,
      "outputs": []
    },
    {
      "cell_type": "code",
      "metadata": {
        "colab": {
          "base_uri": "https://localhost:8080/"
        },
        "id": "_U4xpitOieO0",
        "outputId": "b6ec5e2b-fbf5-4e4a-e54e-e8d152addd9d"
      },
      "source": [
        "import numpy as np\n",
        "sharpN = np.array(sharp)\n",
        "print(sharpN)"
      ],
      "execution_count": null,
      "outputs": [
        {
          "output_type": "stream",
          "name": "stdout",
          "text": [
            "['Copy of 202.png' 'Copy of 201.png' 'Copy of 206.png' 'Copy of 203.png'\n",
            " 'Copy of 209.png' 'Copy of 208.png' 'Copy of 207.png' 'Copy of 200.png'\n",
            " 'Copy of 204.png' 'Copy of 205.png' 'Copy of 212.png' 'Copy of 216.png'\n",
            " 'Copy of 217.png' 'Copy of 215.png' 'Copy of 210.png' 'Copy of 214.png'\n",
            " 'Copy of 211.png' 'Copy of 219.png' 'Copy of 218.png' 'Copy of 213.png'\n",
            " 'Copy of 222.png' 'Copy of 227.png' 'Copy of 225.png' 'Copy of 223.png'\n",
            " 'Copy of 226.png' 'Copy of 221.png' 'Copy of 224.png' 'Copy of 228.png'\n",
            " 'Copy of 229.png' 'Copy of 220.png' 'Copy of 231.png' 'Copy of 232.png'\n",
            " 'Copy of 235.png' 'Copy of 239.png' 'Copy of 237.png' 'Copy of 230.png'\n",
            " 'Copy of 234.png' 'Copy of 238.png' 'Copy of 233.png' 'Copy of 236.png'\n",
            " 'Copy of 249.png' 'Copy of 242.png' 'Copy of 246.png' 'Copy of 243.png'\n",
            " 'Copy of 245.png' 'Copy of 244.png' 'Copy of 241.png' 'Copy of 240.png'\n",
            " 'Copy of 248.png' 'Copy of 247.png' 'Copy of 250.png']\n"
          ]
        }
      ]
    },
    {
      "cell_type": "code",
      "metadata": {
        "colab": {
          "base_uri": "https://localhost:8080/"
        },
        "id": "selhzrJPksye",
        "outputId": "80e55d89-0884-4ba0-ff80-e360e98fca75"
      },
      "source": [
        "print(type(sharpN))"
      ],
      "execution_count": null,
      "outputs": [
        {
          "output_type": "stream",
          "name": "stdout",
          "text": [
            "<class 'numpy.ndarray'>\n"
          ]
        }
      ]
    },
    {
      "cell_type": "code",
      "metadata": {
        "colab": {
          "base_uri": "https://localhost:8080/"
        },
        "id": "i6P2MY5_N2kn",
        "outputId": "fed28275-25aa-45de-cc40-bda76512f500"
      },
      "source": [
        "len(clean)"
      ],
      "execution_count": null,
      "outputs": [
        {
          "output_type": "execute_result",
          "data": {
            "text/plain": [
              "39"
            ]
          },
          "metadata": {},
          "execution_count": 5
        }
      ]
    },
    {
      "cell_type": "code",
      "metadata": {
        "colab": {
          "base_uri": "https://localhost:8080/"
        },
        "id": "vp9K7RMVN95O",
        "outputId": "43773489-b4c7-4ce3-db55-352203578dcc"
      },
      "source": [
        "len(sharp)"
      ],
      "execution_count": null,
      "outputs": [
        {
          "output_type": "execute_result",
          "data": {
            "text/plain": [
              "51"
            ]
          },
          "metadata": {},
          "execution_count": 6
        }
      ]
    },
    {
      "cell_type": "code",
      "metadata": {
        "id": "DP0t6p3FOBGE"
      },
      "source": [
        "input =\"/content/drive/MyDrive/50Input/50_Blur\"\n",
        "gauss_blur = os.listdir(input)"
      ],
      "execution_count": null,
      "outputs": []
    },
    {
      "cell_type": "code",
      "metadata": {
        "colab": {
          "base_uri": "https://localhost:8080/"
        },
        "id": "FOhHY8K8j_NL",
        "outputId": "7ae10135-50ac-405d-8934-a8e809748d54"
      },
      "source": [
        "gauss_blurN = np.array(gauss_blur)\n",
        "print(gauss_blurN)"
      ],
      "execution_count": null,
      "outputs": [
        {
          "output_type": "stream",
          "name": "stdout",
          "text": [
            "['Copy of 202.png' 'Copy of 201.png' 'Copy of 206.png' 'Copy of 203.png'\n",
            " 'Copy of 209.png' 'Copy of 208.png' 'Copy of 207.png' 'Copy of 200.png'\n",
            " 'Copy of 204.png' 'Copy of 205.png' 'Copy of 212.png' 'Copy of 216.png'\n",
            " 'Copy of 217.png' 'Copy of 215.png' 'Copy of 210.png' 'Copy of 214.png'\n",
            " 'Copy of 211.png' 'Copy of 219.png' 'Copy of 218.png' 'Copy of 213.png'\n",
            " 'Copy of 222.png' 'Copy of 227.png' 'Copy of 225.png' 'Copy of 223.png'\n",
            " 'Copy of 226.png' 'Copy of 221.png' 'Copy of 224.png' 'Copy of 228.png'\n",
            " 'Copy of 229.png' 'Copy of 220.png' 'Copy of 231.png' 'Copy of 232.png'\n",
            " 'Copy of 235.png' 'Copy of 239.png' 'Copy of 237.png' 'Copy of 230.png'\n",
            " 'Copy of 234.png' 'Copy of 238.png' 'Copy of 233.png' 'Copy of 236.png'\n",
            " 'Copy of 249.png' 'Copy of 242.png' 'Copy of 246.png' 'Copy of 243.png'\n",
            " 'Copy of 245.png' 'Copy of 244.png' 'Copy of 241.png' 'Copy of 240.png'\n",
            " 'Copy of 248.png' 'Copy of 247.png' 'Copy of 250.png']\n"
          ]
        }
      ]
    },
    {
      "cell_type": "code",
      "metadata": {
        "colab": {
          "base_uri": "https://localhost:8080/"
        },
        "id": "4wynq8m1PD0u",
        "outputId": "e1c079cd-ae86-4cd3-d78b-a566d71e9b95"
      },
      "source": [
        "len(input)"
      ],
      "execution_count": null,
      "outputs": [
        {
          "output_type": "execute_result",
          "data": {
            "text/plain": [
              "38"
            ]
          },
          "metadata": {},
          "execution_count": 9
        }
      ]
    },
    {
      "cell_type": "code",
      "metadata": {
        "colab": {
          "base_uri": "https://localhost:8080/"
        },
        "id": "wuC7k1J-PFKX",
        "outputId": "01a99b39-c84b-414c-d8f6-b57f4386b9f0"
      },
      "source": [
        "len(gauss_blur)"
      ],
      "execution_count": null,
      "outputs": [
        {
          "output_type": "execute_result",
          "data": {
            "text/plain": [
              "51"
            ]
          },
          "metadata": {},
          "execution_count": 10
        }
      ]
    },
    {
      "cell_type": "code",
      "metadata": {
        "id": "_UURI3hHPGht"
      },
      "source": [
        "import numpy as np\n",
        "import os\n",
        "import matplotlib.pyplot as plt\n",
        "import glob\n",
        "import cv2\n",
        "import torch\n",
        "import torchvision\n",
        "import torch.nn as nn\n",
        "import torch.nn.functional as F\n",
        "import torch.optim as optim\n",
        "import time\n",
        "import math\n",
        "import h5py\n",
        "import argparse\n",
        "from tqdm import tqdm\n",
        "from torch.utils.data import Dataset, DataLoader\n",
        "from torchvision.transforms import transforms\n",
        "from torchvision.utils import save_image\n",
        "from sklearn.model_selection import train_test_split"
      ],
      "execution_count": null,
      "outputs": []
    },
    {
      "cell_type": "code",
      "metadata": {
        "id": "0IliE6WtTOHN"
      },
      "source": [
        "# constructing the argument parser\n",
        "parser = argparse.ArgumentParser()\n",
        "parser.add_argument('-f')\n",
        "parser.add_argument('-e', '--epochs', type=int, default=100, \n",
        "            help='number of epochs to train the model for')\n",
        "args = vars(parser.parse_args())\n",
        "def save_decoded_image(img, name):\n",
        "    img = img.view(img.size(0), 3, 128, 128)\n",
        "    save_image(img, name)"
      ],
      "execution_count": null,
      "outputs": []
    },
    {
      "cell_type": "code",
      "metadata": {
        "colab": {
          "base_uri": "https://localhost:8080/"
        },
        "id": "Lkol3u68ZUed",
        "outputId": "6bf1fe21-1c49-4e17-d871-a5c7edfa7a5f"
      },
      "source": [
        "# helper functions\n",
        "image_dir = '/content/drive/MyDrive/50Output/saved_images'\n",
        "os.makedirs(image_dir, exist_ok=True)\n",
        "\n",
        "device = 'cuda:0' if torch.cuda.is_available() else 'cpu'\n",
        "print(device)\n",
        "\n",
        "batch_size = 32"
      ],
      "execution_count": null,
      "outputs": [
        {
          "output_type": "stream",
          "name": "stdout",
          "text": [
            "cpu\n"
          ]
        }
      ]
    },
    {
      "cell_type": "code",
      "metadata": {
        "id": "RK4ePOzCUcvH"
      },
      "source": [
        "gauss_blur = os.listdir('/content/drive/MyDrive/50Input/50_Blur')\n",
        "gauss_blur.sort()\n",
        "sharp = os.listdir('/content/drive/MyDrive/50Input/50_Clean')\n",
        "sharp.sort()\n",
        "\n",
        "x_blur = []\n",
        "for i in range(len(gauss_blur)):\n",
        "    x_blur.append(gauss_blur[i])\n",
        "\n",
        "y_sharp = []\n",
        "for i in range(len(sharp)):\n",
        "    y_sharp.append(sharp[i])"
      ],
      "execution_count": null,
      "outputs": []
    },
    {
      "cell_type": "code",
      "metadata": {
        "colab": {
          "base_uri": "https://localhost:8080/"
        },
        "id": "O8k_1x8Pa1l3",
        "outputId": "7a1175b5-f2a6-4ebd-976c-57c47de19523"
      },
      "source": [
        "(x_train, x_val, y_train, y_val) = train_test_split(x_blur, y_sharp, test_size=0.10)\n",
        "print(f\"Train data instances: {len(x_train)}\")\n",
        "print(f\"Validation data instances: {len(x_val)}\")"
      ],
      "execution_count": null,
      "outputs": [
        {
          "output_type": "stream",
          "name": "stdout",
          "text": [
            "Train data instances: 45\n",
            "Validation data instances: 6\n"
          ]
        }
      ]
    },
    {
      "cell_type": "code",
      "metadata": {
        "id": "zcw_pc_aWWYX"
      },
      "source": [
        "# define transforms\n",
        "transform = transforms.Compose([\n",
        "    transforms.ToPILImage(),\n",
        "    transforms.Resize((128, 128)),\n",
        "    transforms.ToTensor(),\n",
        "])"
      ],
      "execution_count": null,
      "outputs": []
    },
    {
      "cell_type": "code",
      "metadata": {
        "id": "zS4VtlUOWa5-"
      },
      "source": [
        "class DeblurDataset(Dataset):\n",
        "    def __init__(self, blur_paths, sharp_paths=None, transforms=None):\n",
        "        self.X = blur_paths\n",
        "        self.y = sharp_paths\n",
        "        self.transforms = transforms\n",
        "         \n",
        "    def __len__(self):\n",
        "        return (len(self.X))\n",
        "    \n",
        "    def __getitem__(self, i):\n",
        "        blur_image = cv2.imread(f\"/content/drive/MyDrive/50Input/50_Blur/{self.X[i]}\")\n",
        "        \n",
        "        if self.transforms:\n",
        "            blur_image = self.transforms(blur_image)\n",
        "            \n",
        "        if self.y is not None:\n",
        "            sharp_image = cv2.imread(f\"/content/drive/MyDrive/50Input/50_Clean/{self.y[i]}\")\n",
        "            sharp_image = self.transforms(sharp_image)\n",
        "            return (blur_image, sharp_image)\n",
        "        else:\n",
        "            return blur_image"
      ],
      "execution_count": null,
      "outputs": []
    },
    {
      "cell_type": "code",
      "metadata": {
        "id": "N5a4IndDXbb5"
      },
      "source": [
        "train_data = DeblurDataset(x_train, y_train, transform)\n",
        "val_data = DeblurDataset(x_val, y_val, transform)\n",
        "batch_size = 1\n",
        "trainloader = DataLoader(train_data, batch_size=batch_size, shuffle=True)\n",
        "valloader = DataLoader(val_data, batch_size=batch_size, shuffle=False)"
      ],
      "execution_count": null,
      "outputs": []
    },
    {
      "cell_type": "code",
      "metadata": {
        "colab": {
          "base_uri": "https://localhost:8080/"
        },
        "id": "SECseMFUXn7N",
        "outputId": "4947e7b3-d5a2-4790-f59f-6238186a5c2e"
      },
      "source": [
        "class DeblurCNN(nn.Module):\n",
        "    def __init__(self):\n",
        "        super(DeblurCNN, self).__init__()\n",
        "        self.conv1 = nn.Conv2d(3, 64, kernel_size=9, padding=2)\n",
        "        self.conv2 = nn.Conv2d(64, 32, kernel_size=1, padding=2)\n",
        "        self.conv3 = nn.Conv2d(32, 3, kernel_size=5, padding=2)\n",
        "    def forward(self, x):\n",
        "        x = F.relu(self.conv1(x))\n",
        "        x = F.relu(self.conv2(x))\n",
        "        x = self.conv3(x)\n",
        "        return x\n",
        "device = 'cuda:0' if torch.cuda.is_available() else 'cpu'\n",
        "print(device)\n",
        "model = DeblurCNN().to(device)\n",
        "print(model)"
      ],
      "execution_count": null,
      "outputs": [
        {
          "output_type": "stream",
          "name": "stdout",
          "text": [
            "cpu\n",
            "DeblurCNN(\n",
            "  (conv1): Conv2d(3, 64, kernel_size=(9, 9), stride=(1, 1), padding=(2, 2))\n",
            "  (conv2): Conv2d(64, 32, kernel_size=(1, 1), stride=(1, 1), padding=(2, 2))\n",
            "  (conv3): Conv2d(32, 3, kernel_size=(5, 5), stride=(1, 1), padding=(2, 2))\n",
            ")\n"
          ]
        }
      ]
    },
    {
      "cell_type": "code",
      "metadata": {
        "id": "Af5F86S_Xr4s"
      },
      "source": [
        "# the loss function\n",
        "criterion = nn.MSELoss()\n",
        "# the optimizer\n",
        "optimizer = optim.Adam(model.parameters(), lr=0.001)\n",
        "scheduler = torch.optim.lr_scheduler.ReduceLROnPlateau( \n",
        "        optimizer,\n",
        "        mode='min',\n",
        "        patience=5,\n",
        "        factor=0.5,\n",
        "        verbose=True\n",
        "    )"
      ],
      "execution_count": null,
      "outputs": []
    },
    {
      "cell_type": "code",
      "metadata": {
        "id": "051swXrzQQ5H"
      },
      "source": [
        "def psnr(label, outputs, max_val=1.):\n",
        "    label = label.cpu().detach().numpy()\n",
        "    outputs = outputs.cpu().detach().numpy()\n",
        "    img_diff = outputs - label\n",
        "    rmse = math.sqrt(np.mean((img_diff) ** 2))\n",
        "    if rmse == 0:\n",
        "        return 100\n",
        "    else:\n",
        "        PSNR = 20 * math.log10(max_val / rmse)\n",
        "        return PSNR"
      ],
      "execution_count": null,
      "outputs": []
    },
    {
      "cell_type": "code",
      "metadata": {
        "id": "3Pc_-KiZbGhj"
      },
      "source": [
        "def fit(model, dataloader):\n",
        "    model.train()\n",
        "    running_loss = 0.0\n",
        "    running_psnr = 0.0\n",
        "    for i, data in tqdm(enumerate(dataloader), total=int(len(train_data)/dataloader.batch_size)):\n",
        "        blur_image = data[0]\n",
        "        sharp_image = data[1]\n",
        "        blur_image = blur_image.to(device)\n",
        "        sharp_image = sharp_image.to(device)\n",
        "        optimizer.zero_grad()\n",
        "        outputs = model(blur_image)\n",
        "        loss = criterion(outputs, sharp_image)\n",
        "        # backpropagation\n",
        "        loss.backward()\n",
        "        # update the parameters\n",
        "        optimizer.step()\n",
        "        running_loss += loss.item()\n",
        "        batch_psnr =  psnr(sharp_image, outputs)\n",
        "        running_psnr += batch_psnr\n",
        "    train_loss = running_loss/len(dataloader.dataset)\n",
        "    final_psnr = running_psnr/int(len(train_data)/dataloader.batch_size)\n",
        "    print(f\"Train Loss: {train_loss:.5f} PSNR: {final_psnr:.5f} PSNR(gT&blur): {psnr(sharp_image, blur_image):.5f}\")\n",
        "    return train_loss, final_psnr"
      ],
      "execution_count": null,
      "outputs": []
    },
    {
      "cell_type": "code",
      "metadata": {
        "id": "_6ezD0qSdfcg"
      },
      "source": [
        "def validate(model, dataloader, epoch):\n",
        "    model.eval()\n",
        "    running_loss = 0.0\n",
        "    running_psnr = 0.0\n",
        "    with torch.no_grad():\n",
        "        for i, data in tqdm(enumerate(dataloader), total=int(len(val_data)/dataloader.batch_size)):\n",
        "            blur_image = data[0]\n",
        "            sharp_image = data[1]\n",
        "            blur_image = blur_image.to(device)\n",
        "            sharp_image = sharp_image.to(device)\n",
        "            outputs = model(blur_image)\n",
        "            loss = criterion(outputs, sharp_image)\n",
        "            running_loss += loss.item()\n",
        "            batch_psnr = psnr(sharp_image, outputs)\n",
        "            running_psnr += batch_psnr\n",
        "            if epoch == 0:\n",
        "                save_decoded_image(sharp_image.cpu().data, name=f\"/content/drive/MyDrive/50Output/saved_images/sharp{epoch}.jpg\")\n",
        "                save_decoded_image(blur_image.cpu().data, name=f\"/content/drive/MyDrive/50Output/saved_images/blur{epoch}.jpg\")\n",
        "            if epoch == 99:\n",
        "                save_decoded_image(outputs.cpu().data, name=f\"/content/drive/MyDrive/50Output/saved_images/val_deblurred{epoch}.jpg\")\n",
        "        val_loss = running_loss/len(dataloader.dataset)\n",
        "        final_psnr = running_psnr/int(len(val_data)/dataloader.batch_size)\n",
        "        print(f\"Val Loss: {val_loss:.5f} PSNR: {final_psnr:.5f} PSNR(gT&blur): {psnr(sharp_image, blur_image):.5f}\")\n",
        "        \n",
        "        return val_loss, final_psnr"
      ],
      "execution_count": null,
      "outputs": []
    },
    {
      "cell_type": "code",
      "metadata": {
        "colab": {
          "base_uri": "https://localhost:8080/"
        },
        "id": "xTCZ6e0QdjUb",
        "outputId": "0b5e9a63-8491-46e4-8869-72b80adafa1c"
      },
      "source": [
        "train_loss, val_loss = [], []\n",
        "train_psnr, val_psnr = [], []\n",
        "start = time.time()\n",
        "for epoch in range(args['epochs']):\n",
        "    print(f\"Epoch {epoch+1} of {args['epochs']}\")\n",
        "    train_epoch_loss, train_epoch_psnr = fit(model, trainloader)\n",
        "    val_epoch_loss, val_epoch_psnr = validate(model, valloader, epoch)\n",
        "    train_loss.append(train_epoch_loss)\n",
        "    train_psnr.append(train_epoch_psnr)\n",
        "    val_loss.append(val_epoch_loss)\n",
        "    val_psnr.append(val_epoch_psnr)\n",
        "    scheduler.step(val_epoch_loss)\n",
        "end = time.time()\n",
        "print(f\"Took {((end-start)/60):.3f} minutes to train\")"
      ],
      "execution_count": null,
      "outputs": [
        {
          "output_type": "stream",
          "name": "stdout",
          "text": [
            "Epoch 1 of 100\n"
          ]
        },
        {
          "output_type": "stream",
          "name": "stderr",
          "text": [
            "100%|██████████| 45/45 [00:05<00:00,  8.24it/s]\n"
          ]
        },
        {
          "output_type": "stream",
          "name": "stdout",
          "text": [
            "Train Loss: 0.00065 PSNR: 32.05773 PSNR(gT&blur): 30.51009\n"
          ]
        },
        {
          "output_type": "stream",
          "name": "stderr",
          "text": [
            "100%|██████████| 6/6 [00:00<00:00, 10.13it/s]\n"
          ]
        },
        {
          "output_type": "stream",
          "name": "stdout",
          "text": [
            "Val Loss: 0.00070 PSNR: 31.59377 PSNR(gT&blur): 33.05639\n",
            "Epoch 2 of 100\n"
          ]
        },
        {
          "output_type": "stream",
          "name": "stderr",
          "text": [
            "100%|██████████| 45/45 [00:05<00:00,  8.32it/s]\n"
          ]
        },
        {
          "output_type": "stream",
          "name": "stdout",
          "text": [
            "Train Loss: 0.00062 PSNR: 32.25847 PSNR(gT&blur): 30.33535\n"
          ]
        },
        {
          "output_type": "stream",
          "name": "stderr",
          "text": [
            "100%|██████████| 6/6 [00:00<00:00, 11.50it/s]\n"
          ]
        },
        {
          "output_type": "stream",
          "name": "stdout",
          "text": [
            "Val Loss: 0.00071 PSNR: 31.54732 PSNR(gT&blur): 33.05639\n",
            "Epoch 3 of 100\n"
          ]
        },
        {
          "output_type": "stream",
          "name": "stderr",
          "text": [
            "100%|██████████| 45/45 [00:05<00:00,  8.43it/s]\n"
          ]
        },
        {
          "output_type": "stream",
          "name": "stdout",
          "text": [
            "Train Loss: 0.00060 PSNR: 32.40979 PSNR(gT&blur): 28.75624\n"
          ]
        },
        {
          "output_type": "stream",
          "name": "stderr",
          "text": [
            "100%|██████████| 6/6 [00:00<00:00, 11.06it/s]\n"
          ]
        },
        {
          "output_type": "stream",
          "name": "stdout",
          "text": [
            "Val Loss: 0.00068 PSNR: 31.71695 PSNR(gT&blur): 33.05639\n",
            "Epoch 4 of 100\n"
          ]
        },
        {
          "output_type": "stream",
          "name": "stderr",
          "text": [
            "100%|██████████| 45/45 [00:05<00:00,  8.12it/s]\n"
          ]
        },
        {
          "output_type": "stream",
          "name": "stdout",
          "text": [
            "Train Loss: 0.00060 PSNR: 32.43316 PSNR(gT&blur): 30.57462\n"
          ]
        },
        {
          "output_type": "stream",
          "name": "stderr",
          "text": [
            "100%|██████████| 6/6 [00:00<00:00, 11.04it/s]\n"
          ]
        },
        {
          "output_type": "stream",
          "name": "stdout",
          "text": [
            "Val Loss: 0.00065 PSNR: 31.90068 PSNR(gT&blur): 33.05639\n",
            "Epoch 5 of 100\n"
          ]
        },
        {
          "output_type": "stream",
          "name": "stderr",
          "text": [
            "100%|██████████| 45/45 [00:05<00:00,  8.39it/s]\n"
          ]
        },
        {
          "output_type": "stream",
          "name": "stdout",
          "text": [
            "Train Loss: 0.00060 PSNR: 32.42156 PSNR(gT&blur): 30.57756\n"
          ]
        },
        {
          "output_type": "stream",
          "name": "stderr",
          "text": [
            "100%|██████████| 6/6 [00:00<00:00, 11.37it/s]\n"
          ]
        },
        {
          "output_type": "stream",
          "name": "stdout",
          "text": [
            "Val Loss: 0.00069 PSNR: 31.68579 PSNR(gT&blur): 33.05639\n",
            "Epoch 6 of 100\n"
          ]
        },
        {
          "output_type": "stream",
          "name": "stderr",
          "text": [
            "100%|██████████| 45/45 [00:05<00:00,  8.40it/s]\n"
          ]
        },
        {
          "output_type": "stream",
          "name": "stdout",
          "text": [
            "Train Loss: 0.00063 PSNR: 32.18055 PSNR(gT&blur): 29.95999\n"
          ]
        },
        {
          "output_type": "stream",
          "name": "stderr",
          "text": [
            "100%|██████████| 6/6 [00:00<00:00, 11.44it/s]\n"
          ]
        },
        {
          "output_type": "stream",
          "name": "stdout",
          "text": [
            "Val Loss: 0.00070 PSNR: 31.61443 PSNR(gT&blur): 33.05639\n",
            "Epoch 7 of 100\n"
          ]
        },
        {
          "output_type": "stream",
          "name": "stderr",
          "text": [
            "100%|██████████| 45/45 [00:05<00:00,  8.23it/s]\n"
          ]
        },
        {
          "output_type": "stream",
          "name": "stdout",
          "text": [
            "Train Loss: 0.00064 PSNR: 32.14806 PSNR(gT&blur): 30.61089\n"
          ]
        },
        {
          "output_type": "stream",
          "name": "stderr",
          "text": [
            "100%|██████████| 6/6 [00:00<00:00, 11.24it/s]\n"
          ]
        },
        {
          "output_type": "stream",
          "name": "stdout",
          "text": [
            "Val Loss: 0.00071 PSNR: 31.52364 PSNR(gT&blur): 33.05639\n",
            "Epoch 8 of 100\n"
          ]
        },
        {
          "output_type": "stream",
          "name": "stderr",
          "text": [
            "100%|██████████| 45/45 [00:05<00:00,  8.06it/s]\n"
          ]
        },
        {
          "output_type": "stream",
          "name": "stdout",
          "text": [
            "Train Loss: 0.00059 PSNR: 32.48550 PSNR(gT&blur): 30.43778\n"
          ]
        },
        {
          "output_type": "stream",
          "name": "stderr",
          "text": [
            "100%|██████████| 6/6 [00:00<00:00, 10.80it/s]\n"
          ]
        },
        {
          "output_type": "stream",
          "name": "stdout",
          "text": [
            "Val Loss: 0.00065 PSNR: 31.91019 PSNR(gT&blur): 33.05639\n",
            "Epoch 9 of 100\n"
          ]
        },
        {
          "output_type": "stream",
          "name": "stderr",
          "text": [
            "100%|██████████| 45/45 [00:05<00:00,  8.02it/s]\n"
          ]
        },
        {
          "output_type": "stream",
          "name": "stdout",
          "text": [
            "Train Loss: 0.00067 PSNR: 31.99407 PSNR(gT&blur): 30.57987\n"
          ]
        },
        {
          "output_type": "stream",
          "name": "stderr",
          "text": [
            "100%|██████████| 6/6 [00:00<00:00, 11.05it/s]\n"
          ]
        },
        {
          "output_type": "stream",
          "name": "stdout",
          "text": [
            "Val Loss: 0.00069 PSNR: 31.64171 PSNR(gT&blur): 33.05639\n",
            "Epoch 10 of 100\n"
          ]
        },
        {
          "output_type": "stream",
          "name": "stderr",
          "text": [
            "100%|██████████| 45/45 [00:05<00:00,  7.96it/s]\n"
          ]
        },
        {
          "output_type": "stream",
          "name": "stdout",
          "text": [
            "Train Loss: 0.00058 PSNR: 32.58456 PSNR(gT&blur): 30.22757\n"
          ]
        },
        {
          "output_type": "stream",
          "name": "stderr",
          "text": [
            "100%|██████████| 6/6 [00:00<00:00, 11.01it/s]\n"
          ]
        },
        {
          "output_type": "stream",
          "name": "stdout",
          "text": [
            "Val Loss: 0.00064 PSNR: 31.97678 PSNR(gT&blur): 33.05639\n",
            "Epoch 11 of 100\n"
          ]
        },
        {
          "output_type": "stream",
          "name": "stderr",
          "text": [
            "100%|██████████| 45/45 [00:05<00:00,  8.03it/s]\n"
          ]
        },
        {
          "output_type": "stream",
          "name": "stdout",
          "text": [
            "Train Loss: 0.00055 PSNR: 32.77450 PSNR(gT&blur): 33.45093\n"
          ]
        },
        {
          "output_type": "stream",
          "name": "stderr",
          "text": [
            "100%|██████████| 6/6 [00:00<00:00, 11.01it/s]\n"
          ]
        },
        {
          "output_type": "stream",
          "name": "stdout",
          "text": [
            "Val Loss: 0.00069 PSNR: 31.65670 PSNR(gT&blur): 33.05639\n",
            "Epoch 12 of 100\n"
          ]
        },
        {
          "output_type": "stream",
          "name": "stderr",
          "text": [
            "100%|██████████| 45/45 [00:05<00:00,  8.07it/s]\n"
          ]
        },
        {
          "output_type": "stream",
          "name": "stdout",
          "text": [
            "Train Loss: 0.00059 PSNR: 32.48752 PSNR(gT&blur): 30.64627\n"
          ]
        },
        {
          "output_type": "stream",
          "name": "stderr",
          "text": [
            "100%|██████████| 6/6 [00:00<00:00, 10.90it/s]\n"
          ]
        },
        {
          "output_type": "stream",
          "name": "stdout",
          "text": [
            "Val Loss: 0.00065 PSNR: 31.91332 PSNR(gT&blur): 33.05639\n",
            "Epoch 13 of 100\n"
          ]
        },
        {
          "output_type": "stream",
          "name": "stderr",
          "text": [
            "100%|██████████| 45/45 [00:05<00:00,  8.00it/s]\n"
          ]
        },
        {
          "output_type": "stream",
          "name": "stdout",
          "text": [
            "Train Loss: 0.00059 PSNR: 32.47105 PSNR(gT&blur): 31.62925\n"
          ]
        },
        {
          "output_type": "stream",
          "name": "stderr",
          "text": [
            "100%|██████████| 6/6 [00:00<00:00, 10.56it/s]\n"
          ]
        },
        {
          "output_type": "stream",
          "name": "stdout",
          "text": [
            "Val Loss: 0.00063 PSNR: 32.04248 PSNR(gT&blur): 33.05639\n",
            "Epoch 14 of 100\n"
          ]
        },
        {
          "output_type": "stream",
          "name": "stderr",
          "text": [
            "100%|██████████| 45/45 [00:05<00:00,  7.93it/s]\n"
          ]
        },
        {
          "output_type": "stream",
          "name": "stdout",
          "text": [
            "Train Loss: 0.00057 PSNR: 32.64020 PSNR(gT&blur): 33.36995\n"
          ]
        },
        {
          "output_type": "stream",
          "name": "stderr",
          "text": [
            "100%|██████████| 6/6 [00:00<00:00, 10.58it/s]\n"
          ]
        },
        {
          "output_type": "stream",
          "name": "stdout",
          "text": [
            "Val Loss: 0.00074 PSNR: 31.31268 PSNR(gT&blur): 33.05639\n",
            "Epoch 15 of 100\n"
          ]
        },
        {
          "output_type": "stream",
          "name": "stderr",
          "text": [
            "100%|██████████| 45/45 [00:05<00:00,  8.06it/s]\n"
          ]
        },
        {
          "output_type": "stream",
          "name": "stdout",
          "text": [
            "Train Loss: 0.00078 PSNR: 31.42097 PSNR(gT&blur): 29.20485\n"
          ]
        },
        {
          "output_type": "stream",
          "name": "stderr",
          "text": [
            "100%|██████████| 6/6 [00:00<00:00, 11.44it/s]\n"
          ]
        },
        {
          "output_type": "stream",
          "name": "stdout",
          "text": [
            "Val Loss: 0.00143 PSNR: 28.46115 PSNR(gT&blur): 33.05639\n",
            "Epoch 16 of 100\n"
          ]
        },
        {
          "output_type": "stream",
          "name": "stderr",
          "text": [
            "100%|██████████| 45/45 [00:05<00:00,  8.35it/s]\n"
          ]
        },
        {
          "output_type": "stream",
          "name": "stdout",
          "text": [
            "Train Loss: 0.00118 PSNR: 29.56922 PSNR(gT&blur): 30.22757\n"
          ]
        },
        {
          "output_type": "stream",
          "name": "stderr",
          "text": [
            "100%|██████████| 6/6 [00:00<00:00, 11.01it/s]\n"
          ]
        },
        {
          "output_type": "stream",
          "name": "stdout",
          "text": [
            "Val Loss: 0.00112 PSNR: 29.50496 PSNR(gT&blur): 33.05639\n",
            "Epoch 17 of 100\n"
          ]
        },
        {
          "output_type": "stream",
          "name": "stderr",
          "text": [
            "100%|██████████| 45/45 [00:05<00:00,  8.39it/s]\n"
          ]
        },
        {
          "output_type": "stream",
          "name": "stdout",
          "text": [
            "Train Loss: 0.00072 PSNR: 31.70933 PSNR(gT&blur): 30.51009\n"
          ]
        },
        {
          "output_type": "stream",
          "name": "stderr",
          "text": [
            "100%|██████████| 6/6 [00:00<00:00, 11.43it/s]\n"
          ]
        },
        {
          "output_type": "stream",
          "name": "stdout",
          "text": [
            "Val Loss: 0.00066 PSNR: 31.83729 PSNR(gT&blur): 33.05639\n",
            "Epoch 18 of 100\n"
          ]
        },
        {
          "output_type": "stream",
          "name": "stderr",
          "text": [
            "100%|██████████| 45/45 [00:05<00:00,  8.41it/s]\n"
          ]
        },
        {
          "output_type": "stream",
          "name": "stdout",
          "text": [
            "Train Loss: 0.00056 PSNR: 32.67030 PSNR(gT&blur): 30.05242\n"
          ]
        },
        {
          "output_type": "stream",
          "name": "stderr",
          "text": [
            "100%|██████████| 6/6 [00:00<00:00, 11.60it/s]\n"
          ]
        },
        {
          "output_type": "stream",
          "name": "stdout",
          "text": [
            "Val Loss: 0.00061 PSNR: 32.15137 PSNR(gT&blur): 33.05639\n",
            "Epoch 19 of 100\n"
          ]
        },
        {
          "output_type": "stream",
          "name": "stderr",
          "text": [
            "100%|██████████| 45/45 [00:05<00:00,  8.20it/s]\n"
          ]
        },
        {
          "output_type": "stream",
          "name": "stdout",
          "text": [
            "Train Loss: 0.00107 PSNR: 30.72930 PSNR(gT&blur): 30.57462\n"
          ]
        },
        {
          "output_type": "stream",
          "name": "stderr",
          "text": [
            "100%|██████████| 6/6 [00:00<00:00, 11.42it/s]\n"
          ]
        },
        {
          "output_type": "stream",
          "name": "stdout",
          "text": [
            "Val Loss: 0.00084 PSNR: 30.80461 PSNR(gT&blur): 33.05639\n",
            "Epoch 20 of 100\n"
          ]
        },
        {
          "output_type": "stream",
          "name": "stderr",
          "text": [
            "100%|██████████| 45/45 [00:05<00:00,  8.10it/s]\n"
          ]
        },
        {
          "output_type": "stream",
          "name": "stdout",
          "text": [
            "Train Loss: 0.00086 PSNR: 30.81930 PSNR(gT&blur): 32.68950\n"
          ]
        },
        {
          "output_type": "stream",
          "name": "stderr",
          "text": [
            "100%|██████████| 6/6 [00:00<00:00, 10.93it/s]\n"
          ]
        },
        {
          "output_type": "stream",
          "name": "stdout",
          "text": [
            "Val Loss: 0.00068 PSNR: 31.71548 PSNR(gT&blur): 33.05639\n",
            "Epoch 21 of 100\n"
          ]
        },
        {
          "output_type": "stream",
          "name": "stderr",
          "text": [
            "100%|██████████| 45/45 [00:05<00:00,  8.01it/s]\n"
          ]
        },
        {
          "output_type": "stream",
          "name": "stdout",
          "text": [
            "Train Loss: 0.00064 PSNR: 32.12958 PSNR(gT&blur): 28.81718\n"
          ]
        },
        {
          "output_type": "stream",
          "name": "stderr",
          "text": [
            "100%|██████████| 6/6 [00:00<00:00, 11.30it/s]\n"
          ]
        },
        {
          "output_type": "stream",
          "name": "stdout",
          "text": [
            "Val Loss: 0.00061 PSNR: 32.16787 PSNR(gT&blur): 33.05639\n",
            "Epoch 22 of 100\n"
          ]
        },
        {
          "output_type": "stream",
          "name": "stderr",
          "text": [
            "100%|██████████| 45/45 [00:05<00:00,  7.97it/s]\n"
          ]
        },
        {
          "output_type": "stream",
          "name": "stdout",
          "text": [
            "Train Loss: 0.00051 PSNR: 33.12342 PSNR(gT&blur): 32.10951\n"
          ]
        },
        {
          "output_type": "stream",
          "name": "stderr",
          "text": [
            "100%|██████████| 6/6 [00:00<00:00, 10.86it/s]\n"
          ]
        },
        {
          "output_type": "stream",
          "name": "stdout",
          "text": [
            "Val Loss: 0.00058 PSNR: 32.43907 PSNR(gT&blur): 33.05639\n",
            "Epoch 23 of 100\n"
          ]
        },
        {
          "output_type": "stream",
          "name": "stderr",
          "text": [
            "100%|██████████| 45/45 [00:05<00:00,  8.02it/s]\n"
          ]
        },
        {
          "output_type": "stream",
          "name": "stdout",
          "text": [
            "Train Loss: 0.00050 PSNR: 33.25805 PSNR(gT&blur): 30.23184\n"
          ]
        },
        {
          "output_type": "stream",
          "name": "stderr",
          "text": [
            "100%|██████████| 6/6 [00:00<00:00, 11.07it/s]\n"
          ]
        },
        {
          "output_type": "stream",
          "name": "stdout",
          "text": [
            "Val Loss: 0.00056 PSNR: 32.59553 PSNR(gT&blur): 33.05639\n",
            "Epoch 24 of 100\n"
          ]
        },
        {
          "output_type": "stream",
          "name": "stderr",
          "text": [
            "100%|██████████| 45/45 [00:05<00:00,  8.24it/s]\n"
          ]
        },
        {
          "output_type": "stream",
          "name": "stdout",
          "text": [
            "Train Loss: 0.00048 PSNR: 33.35298 PSNR(gT&blur): 30.34356\n"
          ]
        },
        {
          "output_type": "stream",
          "name": "stderr",
          "text": [
            "100%|██████████| 6/6 [00:00<00:00, 11.31it/s]\n"
          ]
        },
        {
          "output_type": "stream",
          "name": "stdout",
          "text": [
            "Val Loss: 0.00056 PSNR: 32.53033 PSNR(gT&blur): 33.05639\n",
            "Epoch 25 of 100\n"
          ]
        },
        {
          "output_type": "stream",
          "name": "stderr",
          "text": [
            "100%|██████████| 45/45 [00:05<00:00,  8.28it/s]\n"
          ]
        },
        {
          "output_type": "stream",
          "name": "stdout",
          "text": [
            "Train Loss: 0.00049 PSNR: 33.32693 PSNR(gT&blur): 30.34356\n"
          ]
        },
        {
          "output_type": "stream",
          "name": "stderr",
          "text": [
            "100%|██████████| 6/6 [00:00<00:00, 10.99it/s]\n"
          ]
        },
        {
          "output_type": "stream",
          "name": "stdout",
          "text": [
            "Val Loss: 0.00056 PSNR: 32.54926 PSNR(gT&blur): 33.05639\n",
            "Epoch 26 of 100\n"
          ]
        },
        {
          "output_type": "stream",
          "name": "stderr",
          "text": [
            "100%|██████████| 45/45 [00:05<00:00,  8.27it/s]\n"
          ]
        },
        {
          "output_type": "stream",
          "name": "stdout",
          "text": [
            "Train Loss: 0.00050 PSNR: 33.21736 PSNR(gT&blur): 30.54099\n"
          ]
        },
        {
          "output_type": "stream",
          "name": "stderr",
          "text": [
            "100%|██████████| 6/6 [00:00<00:00, 11.57it/s]\n"
          ]
        },
        {
          "output_type": "stream",
          "name": "stdout",
          "text": [
            "Val Loss: 0.00058 PSNR: 32.38281 PSNR(gT&blur): 33.05639\n",
            "Epoch 27 of 100\n"
          ]
        },
        {
          "output_type": "stream",
          "name": "stderr",
          "text": [
            "100%|██████████| 45/45 [00:05<00:00,  8.37it/s]\n"
          ]
        },
        {
          "output_type": "stream",
          "name": "stdout",
          "text": [
            "Train Loss: 0.00051 PSNR: 33.10988 PSNR(gT&blur): 34.15825\n"
          ]
        },
        {
          "output_type": "stream",
          "name": "stderr",
          "text": [
            "100%|██████████| 6/6 [00:00<00:00, 11.24it/s]\n"
          ]
        },
        {
          "output_type": "stream",
          "name": "stdout",
          "text": [
            "Val Loss: 0.00055 PSNR: 32.63675 PSNR(gT&blur): 33.05639\n",
            "Epoch 28 of 100\n"
          ]
        },
        {
          "output_type": "stream",
          "name": "stderr",
          "text": [
            "100%|██████████| 45/45 [00:05<00:00,  8.37it/s]\n"
          ]
        },
        {
          "output_type": "stream",
          "name": "stdout",
          "text": [
            "Train Loss: 0.00052 PSNR: 33.03402 PSNR(gT&blur): 31.03738\n"
          ]
        },
        {
          "output_type": "stream",
          "name": "stderr",
          "text": [
            "100%|██████████| 6/6 [00:00<00:00, 11.45it/s]\n"
          ]
        },
        {
          "output_type": "stream",
          "name": "stdout",
          "text": [
            "Val Loss: 0.00061 PSNR: 32.21252 PSNR(gT&blur): 33.05639\n",
            "Epoch 29 of 100\n"
          ]
        },
        {
          "output_type": "stream",
          "name": "stderr",
          "text": [
            "100%|██████████| 45/45 [00:05<00:00,  8.42it/s]\n"
          ]
        },
        {
          "output_type": "stream",
          "name": "stdout",
          "text": [
            "Train Loss: 0.00050 PSNR: 33.21833 PSNR(gT&blur): 33.40506\n"
          ]
        },
        {
          "output_type": "stream",
          "name": "stderr",
          "text": [
            "100%|██████████| 6/6 [00:00<00:00, 11.35it/s]\n"
          ]
        },
        {
          "output_type": "stream",
          "name": "stdout",
          "text": [
            "Val Loss: 0.00054 PSNR: 32.67306 PSNR(gT&blur): 33.05639\n",
            "Epoch 30 of 100\n"
          ]
        },
        {
          "output_type": "stream",
          "name": "stderr",
          "text": [
            "100%|██████████| 45/45 [00:05<00:00,  8.37it/s]\n"
          ]
        },
        {
          "output_type": "stream",
          "name": "stdout",
          "text": [
            "Train Loss: 0.00048 PSNR: 33.38412 PSNR(gT&blur): 30.57987\n"
          ]
        },
        {
          "output_type": "stream",
          "name": "stderr",
          "text": [
            "100%|██████████| 6/6 [00:00<00:00, 11.20it/s]\n"
          ]
        },
        {
          "output_type": "stream",
          "name": "stdout",
          "text": [
            "Val Loss: 0.00055 PSNR: 32.60771 PSNR(gT&blur): 33.05639\n",
            "Epoch 31 of 100\n"
          ]
        },
        {
          "output_type": "stream",
          "name": "stderr",
          "text": [
            "100%|██████████| 45/45 [00:05<00:00,  8.16it/s]\n"
          ]
        },
        {
          "output_type": "stream",
          "name": "stdout",
          "text": [
            "Train Loss: 0.00050 PSNR: 33.15547 PSNR(gT&blur): 29.20485\n"
          ]
        },
        {
          "output_type": "stream",
          "name": "stderr",
          "text": [
            "100%|██████████| 6/6 [00:00<00:00, 10.49it/s]\n"
          ]
        },
        {
          "output_type": "stream",
          "name": "stdout",
          "text": [
            "Val Loss: 0.00054 PSNR: 32.70463 PSNR(gT&blur): 33.05639\n",
            "Epoch 32 of 100\n"
          ]
        },
        {
          "output_type": "stream",
          "name": "stderr",
          "text": [
            "100%|██████████| 45/45 [00:05<00:00,  8.15it/s]\n"
          ]
        },
        {
          "output_type": "stream",
          "name": "stdout",
          "text": [
            "Train Loss: 0.00046 PSNR: 33.62062 PSNR(gT&blur): 30.51009\n"
          ]
        },
        {
          "output_type": "stream",
          "name": "stderr",
          "text": [
            "100%|██████████| 6/6 [00:00<00:00, 11.13it/s]\n"
          ]
        },
        {
          "output_type": "stream",
          "name": "stdout",
          "text": [
            "Val Loss: 0.00052 PSNR: 32.89207 PSNR(gT&blur): 33.05639\n",
            "Epoch 33 of 100\n"
          ]
        },
        {
          "output_type": "stream",
          "name": "stderr",
          "text": [
            "100%|██████████| 45/45 [00:05<00:00,  8.21it/s]\n"
          ]
        },
        {
          "output_type": "stream",
          "name": "stdout",
          "text": [
            "Train Loss: 0.00045 PSNR: 33.65934 PSNR(gT&blur): 33.35416\n"
          ]
        },
        {
          "output_type": "stream",
          "name": "stderr",
          "text": [
            "100%|██████████| 6/6 [00:00<00:00, 10.98it/s]\n"
          ]
        },
        {
          "output_type": "stream",
          "name": "stdout",
          "text": [
            "Val Loss: 0.00056 PSNR: 32.51093 PSNR(gT&blur): 33.05639\n",
            "Epoch 34 of 100\n"
          ]
        },
        {
          "output_type": "stream",
          "name": "stderr",
          "text": [
            "100%|██████████| 45/45 [00:05<00:00,  8.21it/s]\n"
          ]
        },
        {
          "output_type": "stream",
          "name": "stdout",
          "text": [
            "Train Loss: 0.00045 PSNR: 33.62517 PSNR(gT&blur): 29.32458\n"
          ]
        },
        {
          "output_type": "stream",
          "name": "stderr",
          "text": [
            "100%|██████████| 6/6 [00:00<00:00, 11.16it/s]\n"
          ]
        },
        {
          "output_type": "stream",
          "name": "stdout",
          "text": [
            "Val Loss: 0.00053 PSNR: 32.78346 PSNR(gT&blur): 33.05639\n",
            "Epoch 35 of 100\n"
          ]
        },
        {
          "output_type": "stream",
          "name": "stderr",
          "text": [
            "100%|██████████| 45/45 [00:05<00:00,  7.99it/s]\n"
          ]
        },
        {
          "output_type": "stream",
          "name": "stdout",
          "text": [
            "Train Loss: 0.00044 PSNR: 33.79115 PSNR(gT&blur): 30.51009\n"
          ]
        },
        {
          "output_type": "stream",
          "name": "stderr",
          "text": [
            "100%|██████████| 6/6 [00:00<00:00, 10.87it/s]\n"
          ]
        },
        {
          "output_type": "stream",
          "name": "stdout",
          "text": [
            "Val Loss: 0.00050 PSNR: 33.08267 PSNR(gT&blur): 33.05639\n",
            "Epoch 36 of 100\n"
          ]
        },
        {
          "output_type": "stream",
          "name": "stderr",
          "text": [
            "100%|██████████| 45/45 [00:05<00:00,  8.14it/s]\n"
          ]
        },
        {
          "output_type": "stream",
          "name": "stdout",
          "text": [
            "Train Loss: 0.00046 PSNR: 33.54335 PSNR(gT&blur): 28.81718\n"
          ]
        },
        {
          "output_type": "stream",
          "name": "stderr",
          "text": [
            "100%|██████████| 6/6 [00:00<00:00, 11.08it/s]\n"
          ]
        },
        {
          "output_type": "stream",
          "name": "stdout",
          "text": [
            "Val Loss: 0.00050 PSNR: 33.02126 PSNR(gT&blur): 33.05639\n",
            "Epoch 37 of 100\n"
          ]
        },
        {
          "output_type": "stream",
          "name": "stderr",
          "text": [
            "100%|██████████| 45/45 [00:05<00:00,  8.36it/s]\n"
          ]
        },
        {
          "output_type": "stream",
          "name": "stdout",
          "text": [
            "Train Loss: 0.00056 PSNR: 32.77592 PSNR(gT&blur): 30.59449\n"
          ]
        },
        {
          "output_type": "stream",
          "name": "stderr",
          "text": [
            "100%|██████████| 6/6 [00:00<00:00, 10.90it/s]\n"
          ]
        },
        {
          "output_type": "stream",
          "name": "stdout",
          "text": [
            "Val Loss: 0.00055 PSNR: 32.65393 PSNR(gT&blur): 33.05639\n",
            "Epoch 38 of 100\n"
          ]
        },
        {
          "output_type": "stream",
          "name": "stderr",
          "text": [
            "100%|██████████| 45/45 [00:05<00:00,  8.29it/s]\n"
          ]
        },
        {
          "output_type": "stream",
          "name": "stdout",
          "text": [
            "Train Loss: 0.00055 PSNR: 32.79974 PSNR(gT&blur): 31.36493\n"
          ]
        },
        {
          "output_type": "stream",
          "name": "stderr",
          "text": [
            "100%|██████████| 6/6 [00:00<00:00, 11.16it/s]\n"
          ]
        },
        {
          "output_type": "stream",
          "name": "stdout",
          "text": [
            "Val Loss: 0.00050 PSNR: 33.07330 PSNR(gT&blur): 33.05639\n",
            "Epoch 39 of 100\n"
          ]
        },
        {
          "output_type": "stream",
          "name": "stderr",
          "text": [
            "100%|██████████| 45/45 [00:05<00:00,  8.28it/s]\n"
          ]
        },
        {
          "output_type": "stream",
          "name": "stdout",
          "text": [
            "Train Loss: 0.00049 PSNR: 33.31322 PSNR(gT&blur): 33.83365\n"
          ]
        },
        {
          "output_type": "stream",
          "name": "stderr",
          "text": [
            "100%|██████████| 6/6 [00:00<00:00, 11.21it/s]\n"
          ]
        },
        {
          "output_type": "stream",
          "name": "stdout",
          "text": [
            "Val Loss: 0.00081 PSNR: 30.91751 PSNR(gT&blur): 33.05639\n",
            "Epoch 40 of 100\n"
          ]
        },
        {
          "output_type": "stream",
          "name": "stderr",
          "text": [
            "100%|██████████| 45/45 [00:05<00:00,  8.30it/s]\n"
          ]
        },
        {
          "output_type": "stream",
          "name": "stdout",
          "text": [
            "Train Loss: 0.00046 PSNR: 33.51549 PSNR(gT&blur): 30.59449\n"
          ]
        },
        {
          "output_type": "stream",
          "name": "stderr",
          "text": [
            "100%|██████████| 6/6 [00:00<00:00, 11.39it/s]\n"
          ]
        },
        {
          "output_type": "stream",
          "name": "stdout",
          "text": [
            "Val Loss: 0.00049 PSNR: 33.13713 PSNR(gT&blur): 33.05639\n",
            "Epoch 41 of 100\n"
          ]
        },
        {
          "output_type": "stream",
          "name": "stderr",
          "text": [
            "100%|██████████| 45/45 [00:05<00:00,  8.42it/s]\n"
          ]
        },
        {
          "output_type": "stream",
          "name": "stdout",
          "text": [
            "Train Loss: 0.00048 PSNR: 33.41184 PSNR(gT&blur): 30.05242\n"
          ]
        },
        {
          "output_type": "stream",
          "name": "stderr",
          "text": [
            "100%|██████████| 6/6 [00:00<00:00, 11.85it/s]\n"
          ]
        },
        {
          "output_type": "stream",
          "name": "stdout",
          "text": [
            "Val Loss: 0.00052 PSNR: 32.85915 PSNR(gT&blur): 33.05639\n",
            "Epoch 42 of 100\n"
          ]
        },
        {
          "output_type": "stream",
          "name": "stderr",
          "text": [
            "100%|██████████| 45/45 [00:05<00:00,  8.36it/s]\n"
          ]
        },
        {
          "output_type": "stream",
          "name": "stdout",
          "text": [
            "Train Loss: 0.00045 PSNR: 33.64651 PSNR(gT&blur): 30.23184\n"
          ]
        },
        {
          "output_type": "stream",
          "name": "stderr",
          "text": [
            "100%|██████████| 6/6 [00:00<00:00, 11.28it/s]\n"
          ]
        },
        {
          "output_type": "stream",
          "name": "stdout",
          "text": [
            "Val Loss: 0.00049 PSNR: 33.09329 PSNR(gT&blur): 33.05639\n",
            "Epoch 43 of 100\n"
          ]
        },
        {
          "output_type": "stream",
          "name": "stderr",
          "text": [
            "100%|██████████| 45/45 [00:05<00:00,  8.17it/s]\n"
          ]
        },
        {
          "output_type": "stream",
          "name": "stdout",
          "text": [
            "Train Loss: 0.00048 PSNR: 33.38632 PSNR(gT&blur): 30.78565\n"
          ]
        },
        {
          "output_type": "stream",
          "name": "stderr",
          "text": [
            "100%|██████████| 6/6 [00:00<00:00, 11.44it/s]\n"
          ]
        },
        {
          "output_type": "stream",
          "name": "stdout",
          "text": [
            "Val Loss: 0.00053 PSNR: 32.77188 PSNR(gT&blur): 33.05639\n",
            "Epoch 44 of 100\n"
          ]
        },
        {
          "output_type": "stream",
          "name": "stderr",
          "text": [
            "100%|██████████| 45/45 [00:05<00:00,  8.36it/s]\n"
          ]
        },
        {
          "output_type": "stream",
          "name": "stdout",
          "text": [
            "Train Loss: 0.00043 PSNR: 33.82110 PSNR(gT&blur): 29.88393\n"
          ]
        },
        {
          "output_type": "stream",
          "name": "stderr",
          "text": [
            "100%|██████████| 6/6 [00:00<00:00, 10.93it/s]\n"
          ]
        },
        {
          "output_type": "stream",
          "name": "stdout",
          "text": [
            "Val Loss: 0.00050 PSNR: 32.99596 PSNR(gT&blur): 33.05639\n",
            "Epoch 45 of 100\n"
          ]
        },
        {
          "output_type": "stream",
          "name": "stderr",
          "text": [
            "100%|██████████| 45/45 [00:05<00:00,  8.18it/s]\n"
          ]
        },
        {
          "output_type": "stream",
          "name": "stdout",
          "text": [
            "Train Loss: 0.00042 PSNR: 34.00614 PSNR(gT&blur): 30.88232\n"
          ]
        },
        {
          "output_type": "stream",
          "name": "stderr",
          "text": [
            "100%|██████████| 6/6 [00:00<00:00, 11.48it/s]\n"
          ]
        },
        {
          "output_type": "stream",
          "name": "stdout",
          "text": [
            "Val Loss: 0.00047 PSNR: 33.35187 PSNR(gT&blur): 33.05639\n",
            "Epoch 46 of 100\n"
          ]
        },
        {
          "output_type": "stream",
          "name": "stderr",
          "text": [
            "100%|██████████| 45/45 [00:05<00:00,  8.25it/s]\n"
          ]
        },
        {
          "output_type": "stream",
          "name": "stdout",
          "text": [
            "Train Loss: 0.00041 PSNR: 34.06078 PSNR(gT&blur): 30.58374\n"
          ]
        },
        {
          "output_type": "stream",
          "name": "stderr",
          "text": [
            "100%|██████████| 6/6 [00:00<00:00, 10.91it/s]\n"
          ]
        },
        {
          "output_type": "stream",
          "name": "stdout",
          "text": [
            "Val Loss: 0.00048 PSNR: 33.19288 PSNR(gT&blur): 33.05639\n",
            "Epoch 47 of 100\n"
          ]
        },
        {
          "output_type": "stream",
          "name": "stderr",
          "text": [
            "100%|██████████| 45/45 [00:05<00:00,  7.97it/s]\n"
          ]
        },
        {
          "output_type": "stream",
          "name": "stdout",
          "text": [
            "Train Loss: 0.00040 PSNR: 34.15676 PSNR(gT&blur): 30.33535\n"
          ]
        },
        {
          "output_type": "stream",
          "name": "stderr",
          "text": [
            "100%|██████████| 6/6 [00:00<00:00, 11.11it/s]\n"
          ]
        },
        {
          "output_type": "stream",
          "name": "stdout",
          "text": [
            "Val Loss: 0.00045 PSNR: 33.55168 PSNR(gT&blur): 33.05639\n",
            "Epoch 48 of 100\n"
          ]
        },
        {
          "output_type": "stream",
          "name": "stderr",
          "text": [
            "100%|██████████| 45/45 [00:05<00:00,  8.09it/s]\n"
          ]
        },
        {
          "output_type": "stream",
          "name": "stdout",
          "text": [
            "Train Loss: 0.00069 PSNR: 31.91312 PSNR(gT&blur): 30.57462\n"
          ]
        },
        {
          "output_type": "stream",
          "name": "stderr",
          "text": [
            "100%|██████████| 6/6 [00:00<00:00, 11.18it/s]\n"
          ]
        },
        {
          "output_type": "stream",
          "name": "stdout",
          "text": [
            "Val Loss: 0.00054 PSNR: 32.70124 PSNR(gT&blur): 33.05639\n",
            "Epoch 49 of 100\n"
          ]
        },
        {
          "output_type": "stream",
          "name": "stderr",
          "text": [
            "100%|██████████| 45/45 [00:05<00:00,  8.23it/s]\n"
          ]
        },
        {
          "output_type": "stream",
          "name": "stdout",
          "text": [
            "Train Loss: 0.00051 PSNR: 33.15423 PSNR(gT&blur): 30.23184\n"
          ]
        },
        {
          "output_type": "stream",
          "name": "stderr",
          "text": [
            "100%|██████████| 6/6 [00:00<00:00, 11.40it/s]\n"
          ]
        },
        {
          "output_type": "stream",
          "name": "stdout",
          "text": [
            "Val Loss: 0.00052 PSNR: 32.84764 PSNR(gT&blur): 33.05639\n",
            "Epoch 50 of 100\n"
          ]
        },
        {
          "output_type": "stream",
          "name": "stderr",
          "text": [
            "100%|██████████| 45/45 [00:05<00:00,  8.24it/s]\n"
          ]
        },
        {
          "output_type": "stream",
          "name": "stdout",
          "text": [
            "Train Loss: 0.00065 PSNR: 32.18899 PSNR(gT&blur): 30.29004\n"
          ]
        },
        {
          "output_type": "stream",
          "name": "stderr",
          "text": [
            "100%|██████████| 6/6 [00:00<00:00, 11.40it/s]\n"
          ]
        },
        {
          "output_type": "stream",
          "name": "stdout",
          "text": [
            "Val Loss: 0.00089 PSNR: 30.71232 PSNR(gT&blur): 33.05639\n",
            "Epoch 51 of 100\n"
          ]
        },
        {
          "output_type": "stream",
          "name": "stderr",
          "text": [
            "100%|██████████| 45/45 [00:05<00:00,  8.39it/s]\n"
          ]
        },
        {
          "output_type": "stream",
          "name": "stdout",
          "text": [
            "Train Loss: 0.00053 PSNR: 32.89804 PSNR(gT&blur): 32.10951\n"
          ]
        },
        {
          "output_type": "stream",
          "name": "stderr",
          "text": [
            "100%|██████████| 6/6 [00:00<00:00, 11.12it/s]\n"
          ]
        },
        {
          "output_type": "stream",
          "name": "stdout",
          "text": [
            "Val Loss: 0.00049 PSNR: 33.11839 PSNR(gT&blur): 33.05639\n",
            "Epoch 52 of 100\n"
          ]
        },
        {
          "output_type": "stream",
          "name": "stderr",
          "text": [
            "100%|██████████| 45/45 [00:05<00:00,  8.37it/s]\n"
          ]
        },
        {
          "output_type": "stream",
          "name": "stdout",
          "text": [
            "Train Loss: 0.00043 PSNR: 33.87875 PSNR(gT&blur): 34.15825\n"
          ]
        },
        {
          "output_type": "stream",
          "name": "stderr",
          "text": [
            "100%|██████████| 6/6 [00:00<00:00, 11.15it/s]\n"
          ]
        },
        {
          "output_type": "stream",
          "name": "stdout",
          "text": [
            "Val Loss: 0.00044 PSNR: 33.58306 PSNR(gT&blur): 33.05639\n",
            "Epoch 53 of 100\n"
          ]
        },
        {
          "output_type": "stream",
          "name": "stderr",
          "text": [
            "100%|██████████| 45/45 [00:05<00:00,  8.31it/s]\n"
          ]
        },
        {
          "output_type": "stream",
          "name": "stdout",
          "text": [
            "Train Loss: 0.00047 PSNR: 33.46329 PSNR(gT&blur): 30.23184\n"
          ]
        },
        {
          "output_type": "stream",
          "name": "stderr",
          "text": [
            "100%|██████████| 6/6 [00:00<00:00, 11.30it/s]\n"
          ]
        },
        {
          "output_type": "stream",
          "name": "stdout",
          "text": [
            "Val Loss: 0.00045 PSNR: 33.52153 PSNR(gT&blur): 33.05639\n",
            "Epoch 54 of 100\n"
          ]
        },
        {
          "output_type": "stream",
          "name": "stderr",
          "text": [
            "100%|██████████| 45/45 [00:05<00:00,  8.54it/s]\n"
          ]
        },
        {
          "output_type": "stream",
          "name": "stdout",
          "text": [
            "Train Loss: 0.00043 PSNR: 33.78755 PSNR(gT&blur): 30.13598\n"
          ]
        },
        {
          "output_type": "stream",
          "name": "stderr",
          "text": [
            "100%|██████████| 6/6 [00:00<00:00, 11.48it/s]\n"
          ]
        },
        {
          "output_type": "stream",
          "name": "stdout",
          "text": [
            "Val Loss: 0.00055 PSNR: 32.61913 PSNR(gT&blur): 33.05639\n",
            "Epoch 55 of 100\n"
          ]
        },
        {
          "output_type": "stream",
          "name": "stderr",
          "text": [
            "100%|██████████| 45/45 [00:05<00:00,  8.40it/s]\n"
          ]
        },
        {
          "output_type": "stream",
          "name": "stdout",
          "text": [
            "Train Loss: 0.00043 PSNR: 33.93132 PSNR(gT&blur): 31.62925\n"
          ]
        },
        {
          "output_type": "stream",
          "name": "stderr",
          "text": [
            "100%|██████████| 6/6 [00:00<00:00, 11.79it/s]\n"
          ]
        },
        {
          "output_type": "stream",
          "name": "stdout",
          "text": [
            "Val Loss: 0.00051 PSNR: 32.96481 PSNR(gT&blur): 33.05639\n",
            "Epoch 56 of 100\n"
          ]
        },
        {
          "output_type": "stream",
          "name": "stderr",
          "text": [
            "100%|██████████| 45/45 [00:05<00:00,  8.43it/s]\n"
          ]
        },
        {
          "output_type": "stream",
          "name": "stdout",
          "text": [
            "Train Loss: 0.00038 PSNR: 34.38046 PSNR(gT&blur): 29.24927\n"
          ]
        },
        {
          "output_type": "stream",
          "name": "stderr",
          "text": [
            "100%|██████████| 6/6 [00:00<00:00, 11.41it/s]\n"
          ]
        },
        {
          "output_type": "stream",
          "name": "stdout",
          "text": [
            "Val Loss: 0.00042 PSNR: 33.77248 PSNR(gT&blur): 33.05639\n",
            "Epoch 57 of 100\n"
          ]
        },
        {
          "output_type": "stream",
          "name": "stderr",
          "text": [
            "100%|██████████| 45/45 [00:05<00:00,  8.48it/s]\n"
          ]
        },
        {
          "output_type": "stream",
          "name": "stdout",
          "text": [
            "Train Loss: 0.00038 PSNR: 34.41432 PSNR(gT&blur): 32.39556\n"
          ]
        },
        {
          "output_type": "stream",
          "name": "stderr",
          "text": [
            "100%|██████████| 6/6 [00:00<00:00, 11.39it/s]\n"
          ]
        },
        {
          "output_type": "stream",
          "name": "stdout",
          "text": [
            "Val Loss: 0.00055 PSNR: 32.63264 PSNR(gT&blur): 33.05639\n",
            "Epoch 58 of 100\n"
          ]
        },
        {
          "output_type": "stream",
          "name": "stderr",
          "text": [
            "100%|██████████| 45/45 [00:05<00:00,  8.50it/s]\n"
          ]
        },
        {
          "output_type": "stream",
          "name": "stdout",
          "text": [
            "Train Loss: 0.00039 PSNR: 34.28107 PSNR(gT&blur): 29.88393\n"
          ]
        },
        {
          "output_type": "stream",
          "name": "stderr",
          "text": [
            "100%|██████████| 6/6 [00:00<00:00, 10.83it/s]\n"
          ]
        },
        {
          "output_type": "stream",
          "name": "stdout",
          "text": [
            "Val Loss: 0.00055 PSNR: 32.60761 PSNR(gT&blur): 33.05639\n",
            "Epoch 59 of 100\n"
          ]
        },
        {
          "output_type": "stream",
          "name": "stderr",
          "text": [
            "100%|██████████| 45/45 [00:05<00:00,  8.35it/s]\n"
          ]
        },
        {
          "output_type": "stream",
          "name": "stdout",
          "text": [
            "Train Loss: 0.00050 PSNR: 33.15118 PSNR(gT&blur): 30.33535\n"
          ]
        },
        {
          "output_type": "stream",
          "name": "stderr",
          "text": [
            "100%|██████████| 6/6 [00:00<00:00, 11.39it/s]\n"
          ]
        },
        {
          "output_type": "stream",
          "name": "stdout",
          "text": [
            "Val Loss: 0.00055 PSNR: 32.65125 PSNR(gT&blur): 33.05639\n",
            "Epoch 60 of 100\n"
          ]
        },
        {
          "output_type": "stream",
          "name": "stderr",
          "text": [
            "100%|██████████| 45/45 [00:05<00:00,  8.21it/s]\n"
          ]
        },
        {
          "output_type": "stream",
          "name": "stdout",
          "text": [
            "Train Loss: 0.00042 PSNR: 33.99186 PSNR(gT&blur): 29.24927\n"
          ]
        },
        {
          "output_type": "stream",
          "name": "stderr",
          "text": [
            "100%|██████████| 6/6 [00:00<00:00, 11.24it/s]\n"
          ]
        },
        {
          "output_type": "stream",
          "name": "stdout",
          "text": [
            "Val Loss: 0.00052 PSNR: 32.88813 PSNR(gT&blur): 33.05639\n",
            "Epoch 61 of 100\n"
          ]
        },
        {
          "output_type": "stream",
          "name": "stderr",
          "text": [
            "100%|██████████| 45/45 [00:05<00:00,  8.28it/s]\n"
          ]
        },
        {
          "output_type": "stream",
          "name": "stdout",
          "text": [
            "Train Loss: 0.00040 PSNR: 34.17738 PSNR(gT&blur): 30.64627\n"
          ]
        },
        {
          "output_type": "stream",
          "name": "stderr",
          "text": [
            "100%|██████████| 6/6 [00:00<00:00, 11.21it/s]\n"
          ]
        },
        {
          "output_type": "stream",
          "name": "stdout",
          "text": [
            "Val Loss: 0.00046 PSNR: 33.38247 PSNR(gT&blur): 33.05639\n",
            "Epoch 62 of 100\n"
          ]
        },
        {
          "output_type": "stream",
          "name": "stderr",
          "text": [
            "100%|██████████| 45/45 [00:05<00:00,  8.13it/s]\n"
          ]
        },
        {
          "output_type": "stream",
          "name": "stdout",
          "text": [
            "Train Loss: 0.00042 PSNR: 33.93452 PSNR(gT&blur): 30.59449\n"
          ]
        },
        {
          "output_type": "stream",
          "name": "stderr",
          "text": [
            "100%|██████████| 6/6 [00:00<00:00, 10.51it/s]\n"
          ]
        },
        {
          "output_type": "stream",
          "name": "stdout",
          "text": [
            "Val Loss: 0.00043 PSNR: 33.71838 PSNR(gT&blur): 33.05639\n",
            "Epoch   136: reducing learning rate of group 0 to 5.0000e-04.\n",
            "Epoch 63 of 100\n"
          ]
        },
        {
          "output_type": "stream",
          "name": "stderr",
          "text": [
            "100%|██████████| 45/45 [00:05<00:00,  8.14it/s]\n"
          ]
        },
        {
          "output_type": "stream",
          "name": "stdout",
          "text": [
            "Train Loss: 0.00035 PSNR: 34.75484 PSNR(gT&blur): 29.88633\n"
          ]
        },
        {
          "output_type": "stream",
          "name": "stderr",
          "text": [
            "100%|██████████| 6/6 [00:00<00:00, 11.00it/s]\n"
          ]
        },
        {
          "output_type": "stream",
          "name": "stdout",
          "text": [
            "Val Loss: 0.00042 PSNR: 33.77068 PSNR(gT&blur): 33.05639\n",
            "Epoch 64 of 100\n"
          ]
        },
        {
          "output_type": "stream",
          "name": "stderr",
          "text": [
            "100%|██████████| 45/45 [00:05<00:00,  8.14it/s]\n"
          ]
        },
        {
          "output_type": "stream",
          "name": "stdout",
          "text": [
            "Train Loss: 0.00034 PSNR: 34.90662 PSNR(gT&blur): 29.95999\n"
          ]
        },
        {
          "output_type": "stream",
          "name": "stderr",
          "text": [
            "100%|██████████| 6/6 [00:00<00:00, 10.58it/s]\n"
          ]
        },
        {
          "output_type": "stream",
          "name": "stdout",
          "text": [
            "Val Loss: 0.00039 PSNR: 34.07433 PSNR(gT&blur): 33.05639\n",
            "Epoch 65 of 100\n"
          ]
        },
        {
          "output_type": "stream",
          "name": "stderr",
          "text": [
            "100%|██████████| 45/45 [00:05<00:00,  8.07it/s]\n"
          ]
        },
        {
          "output_type": "stream",
          "name": "stdout",
          "text": [
            "Train Loss: 0.00034 PSNR: 34.97140 PSNR(gT&blur): 30.59449\n"
          ]
        },
        {
          "output_type": "stream",
          "name": "stderr",
          "text": [
            "100%|██████████| 6/6 [00:00<00:00, 11.00it/s]\n"
          ]
        },
        {
          "output_type": "stream",
          "name": "stdout",
          "text": [
            "Val Loss: 0.00040 PSNR: 34.05707 PSNR(gT&blur): 33.05639\n",
            "Epoch 66 of 100\n"
          ]
        },
        {
          "output_type": "stream",
          "name": "stderr",
          "text": [
            "100%|██████████| 45/45 [00:05<00:00,  8.17it/s]\n"
          ]
        },
        {
          "output_type": "stream",
          "name": "stdout",
          "text": [
            "Train Loss: 0.00033 PSNR: 35.00314 PSNR(gT&blur): 30.88232\n"
          ]
        },
        {
          "output_type": "stream",
          "name": "stderr",
          "text": [
            "100%|██████████| 6/6 [00:00<00:00, 11.28it/s]\n"
          ]
        },
        {
          "output_type": "stream",
          "name": "stdout",
          "text": [
            "Val Loss: 0.00040 PSNR: 34.02183 PSNR(gT&blur): 33.05639\n",
            "Epoch 67 of 100\n"
          ]
        },
        {
          "output_type": "stream",
          "name": "stderr",
          "text": [
            "100%|██████████| 45/45 [00:05<00:00,  8.05it/s]\n"
          ]
        },
        {
          "output_type": "stream",
          "name": "stdout",
          "text": [
            "Train Loss: 0.00033 PSNR: 35.01412 PSNR(gT&blur): 30.78565\n"
          ]
        },
        {
          "output_type": "stream",
          "name": "stderr",
          "text": [
            "100%|██████████| 6/6 [00:00<00:00, 11.42it/s]\n"
          ]
        },
        {
          "output_type": "stream",
          "name": "stdout",
          "text": [
            "Val Loss: 0.00040 PSNR: 34.02298 PSNR(gT&blur): 33.05639\n",
            "Epoch 68 of 100\n"
          ]
        },
        {
          "output_type": "stream",
          "name": "stderr",
          "text": [
            "100%|██████████| 45/45 [00:05<00:00,  8.26it/s]\n"
          ]
        },
        {
          "output_type": "stream",
          "name": "stdout",
          "text": [
            "Train Loss: 0.00033 PSNR: 35.05353 PSNR(gT&blur): 32.39556\n"
          ]
        },
        {
          "output_type": "stream",
          "name": "stderr",
          "text": [
            "100%|██████████| 6/6 [00:00<00:00, 11.71it/s]\n"
          ]
        },
        {
          "output_type": "stream",
          "name": "stdout",
          "text": [
            "Val Loss: 0.00039 PSNR: 34.13321 PSNR(gT&blur): 33.05639\n",
            "Epoch 69 of 100\n"
          ]
        },
        {
          "output_type": "stream",
          "name": "stderr",
          "text": [
            "100%|██████████| 45/45 [00:05<00:00,  8.38it/s]\n"
          ]
        },
        {
          "output_type": "stream",
          "name": "stdout",
          "text": [
            "Train Loss: 0.00033 PSNR: 35.05288 PSNR(gT&blur): 29.88633\n"
          ]
        },
        {
          "output_type": "stream",
          "name": "stderr",
          "text": [
            "100%|██████████| 6/6 [00:00<00:00, 10.73it/s]\n"
          ]
        },
        {
          "output_type": "stream",
          "name": "stdout",
          "text": [
            "Val Loss: 0.00039 PSNR: 34.11568 PSNR(gT&blur): 33.05639\n",
            "Epoch 70 of 100\n"
          ]
        },
        {
          "output_type": "stream",
          "name": "stderr",
          "text": [
            "100%|██████████| 45/45 [00:05<00:00,  8.32it/s]\n"
          ]
        },
        {
          "output_type": "stream",
          "name": "stdout",
          "text": [
            "Train Loss: 0.00033 PSNR: 35.07238 PSNR(gT&blur): 30.57987\n"
          ]
        },
        {
          "output_type": "stream",
          "name": "stderr",
          "text": [
            "100%|██████████| 6/6 [00:00<00:00, 11.24it/s]\n"
          ]
        },
        {
          "output_type": "stream",
          "name": "stdout",
          "text": [
            "Val Loss: 0.00039 PSNR: 34.12848 PSNR(gT&blur): 33.05639\n",
            "Epoch 71 of 100\n"
          ]
        },
        {
          "output_type": "stream",
          "name": "stderr",
          "text": [
            "100%|██████████| 45/45 [00:05<00:00,  8.46it/s]\n"
          ]
        },
        {
          "output_type": "stream",
          "name": "stdout",
          "text": [
            "Train Loss: 0.00033 PSNR: 35.07403 PSNR(gT&blur): 28.28411\n"
          ]
        },
        {
          "output_type": "stream",
          "name": "stderr",
          "text": [
            "100%|██████████| 6/6 [00:00<00:00, 11.27it/s]\n"
          ]
        },
        {
          "output_type": "stream",
          "name": "stdout",
          "text": [
            "Val Loss: 0.00039 PSNR: 34.15210 PSNR(gT&blur): 33.05639\n",
            "Epoch 72 of 100\n"
          ]
        },
        {
          "output_type": "stream",
          "name": "stderr",
          "text": [
            "100%|██████████| 45/45 [00:05<00:00,  8.31it/s]\n"
          ]
        },
        {
          "output_type": "stream",
          "name": "stdout",
          "text": [
            "Train Loss: 0.00033 PSNR: 35.05141 PSNR(gT&blur): 32.39556\n"
          ]
        },
        {
          "output_type": "stream",
          "name": "stderr",
          "text": [
            "100%|██████████| 6/6 [00:00<00:00, 11.16it/s]\n"
          ]
        },
        {
          "output_type": "stream",
          "name": "stdout",
          "text": [
            "Val Loss: 0.00039 PSNR: 34.15566 PSNR(gT&blur): 33.05639\n",
            "Epoch 73 of 100\n"
          ]
        },
        {
          "output_type": "stream",
          "name": "stderr",
          "text": [
            "100%|██████████| 45/45 [00:05<00:00,  8.09it/s]\n"
          ]
        },
        {
          "output_type": "stream",
          "name": "stdout",
          "text": [
            "Train Loss: 0.00032 PSNR: 35.13681 PSNR(gT&blur): 30.94387\n"
          ]
        },
        {
          "output_type": "stream",
          "name": "stderr",
          "text": [
            "100%|██████████| 6/6 [00:00<00:00, 10.72it/s]\n"
          ]
        },
        {
          "output_type": "stream",
          "name": "stdout",
          "text": [
            "Val Loss: 0.00038 PSNR: 34.21364 PSNR(gT&blur): 33.05639\n",
            "Epoch 74 of 100\n"
          ]
        },
        {
          "output_type": "stream",
          "name": "stderr",
          "text": [
            "100%|██████████| 45/45 [00:05<00:00,  8.00it/s]\n"
          ]
        },
        {
          "output_type": "stream",
          "name": "stdout",
          "text": [
            "Train Loss: 0.00032 PSNR: 35.14945 PSNR(gT&blur): 34.15825\n"
          ]
        },
        {
          "output_type": "stream",
          "name": "stderr",
          "text": [
            "100%|██████████| 6/6 [00:00<00:00, 10.90it/s]\n"
          ]
        },
        {
          "output_type": "stream",
          "name": "stdout",
          "text": [
            "Val Loss: 0.00038 PSNR: 34.19869 PSNR(gT&blur): 33.05639\n",
            "Epoch 75 of 100\n"
          ]
        },
        {
          "output_type": "stream",
          "name": "stderr",
          "text": [
            "100%|██████████| 45/45 [00:05<00:00,  7.92it/s]\n"
          ]
        },
        {
          "output_type": "stream",
          "name": "stdout",
          "text": [
            "Train Loss: 0.00032 PSNR: 35.17164 PSNR(gT&blur): 31.35067\n"
          ]
        },
        {
          "output_type": "stream",
          "name": "stderr",
          "text": [
            "100%|██████████| 6/6 [00:00<00:00, 10.83it/s]\n"
          ]
        },
        {
          "output_type": "stream",
          "name": "stdout",
          "text": [
            "Val Loss: 0.00037 PSNR: 34.30629 PSNR(gT&blur): 33.05639\n",
            "Epoch 76 of 100\n"
          ]
        },
        {
          "output_type": "stream",
          "name": "stderr",
          "text": [
            "100%|██████████| 45/45 [00:05<00:00,  7.90it/s]\n"
          ]
        },
        {
          "output_type": "stream",
          "name": "stdout",
          "text": [
            "Train Loss: 0.00032 PSNR: 35.16158 PSNR(gT&blur): 30.57756\n"
          ]
        },
        {
          "output_type": "stream",
          "name": "stderr",
          "text": [
            "100%|██████████| 6/6 [00:00<00:00, 10.67it/s]\n"
          ]
        },
        {
          "output_type": "stream",
          "name": "stdout",
          "text": [
            "Val Loss: 0.00038 PSNR: 34.27896 PSNR(gT&blur): 33.05639\n",
            "Epoch 77 of 100\n"
          ]
        },
        {
          "output_type": "stream",
          "name": "stderr",
          "text": [
            "100%|██████████| 45/45 [00:05<00:00,  7.97it/s]\n"
          ]
        },
        {
          "output_type": "stream",
          "name": "stdout",
          "text": [
            "Train Loss: 0.00033 PSNR: 35.09076 PSNR(gT&blur): 32.39556\n"
          ]
        },
        {
          "output_type": "stream",
          "name": "stderr",
          "text": [
            "100%|██████████| 6/6 [00:00<00:00, 11.15it/s]\n"
          ]
        },
        {
          "output_type": "stream",
          "name": "stdout",
          "text": [
            "Val Loss: 0.00038 PSNR: 34.20821 PSNR(gT&blur): 33.05639\n",
            "Epoch 78 of 100\n"
          ]
        },
        {
          "output_type": "stream",
          "name": "stderr",
          "text": [
            "100%|██████████| 45/45 [00:05<00:00,  8.20it/s]\n"
          ]
        },
        {
          "output_type": "stream",
          "name": "stdout",
          "text": [
            "Train Loss: 0.00032 PSNR: 35.13550 PSNR(gT&blur): 31.03738\n"
          ]
        },
        {
          "output_type": "stream",
          "name": "stderr",
          "text": [
            "100%|██████████| 6/6 [00:00<00:00, 11.07it/s]\n"
          ]
        },
        {
          "output_type": "stream",
          "name": "stdout",
          "text": [
            "Val Loss: 0.00038 PSNR: 34.25840 PSNR(gT&blur): 33.05639\n",
            "Epoch 79 of 100\n"
          ]
        },
        {
          "output_type": "stream",
          "name": "stderr",
          "text": [
            "100%|██████████| 45/45 [00:05<00:00,  8.03it/s]\n"
          ]
        },
        {
          "output_type": "stream",
          "name": "stdout",
          "text": [
            "Train Loss: 0.00032 PSNR: 35.18087 PSNR(gT&blur): 33.35416\n"
          ]
        },
        {
          "output_type": "stream",
          "name": "stderr",
          "text": [
            "100%|██████████| 6/6 [00:00<00:00, 10.99it/s]\n"
          ]
        },
        {
          "output_type": "stream",
          "name": "stdout",
          "text": [
            "Val Loss: 0.00037 PSNR: 34.37603 PSNR(gT&blur): 33.05639\n",
            "Epoch 80 of 100\n"
          ]
        },
        {
          "output_type": "stream",
          "name": "stderr",
          "text": [
            "100%|██████████| 45/45 [00:05<00:00,  8.11it/s]\n"
          ]
        },
        {
          "output_type": "stream",
          "name": "stdout",
          "text": [
            "Train Loss: 0.00032 PSNR: 35.24822 PSNR(gT&blur): 33.41524\n"
          ]
        },
        {
          "output_type": "stream",
          "name": "stderr",
          "text": [
            "100%|██████████| 6/6 [00:00<00:00, 11.30it/s]\n"
          ]
        },
        {
          "output_type": "stream",
          "name": "stdout",
          "text": [
            "Val Loss: 0.00036 PSNR: 34.43945 PSNR(gT&blur): 33.05639\n",
            "Epoch 81 of 100\n"
          ]
        },
        {
          "output_type": "stream",
          "name": "stderr",
          "text": [
            "100%|██████████| 45/45 [00:05<00:00,  8.21it/s]\n"
          ]
        },
        {
          "output_type": "stream",
          "name": "stdout",
          "text": [
            "Train Loss: 0.00031 PSNR: 35.31162 PSNR(gT&blur): 30.57756\n"
          ]
        },
        {
          "output_type": "stream",
          "name": "stderr",
          "text": [
            "100%|██████████| 6/6 [00:00<00:00, 10.74it/s]\n"
          ]
        },
        {
          "output_type": "stream",
          "name": "stdout",
          "text": [
            "Val Loss: 0.00036 PSNR: 34.42298 PSNR(gT&blur): 33.05639\n",
            "Epoch 82 of 100\n"
          ]
        },
        {
          "output_type": "stream",
          "name": "stderr",
          "text": [
            "100%|██████████| 45/45 [00:05<00:00,  8.20it/s]\n"
          ]
        },
        {
          "output_type": "stream",
          "name": "stdout",
          "text": [
            "Train Loss: 0.00031 PSNR: 35.28285 PSNR(gT&blur): 30.59449\n"
          ]
        },
        {
          "output_type": "stream",
          "name": "stderr",
          "text": [
            "100%|██████████| 6/6 [00:00<00:00, 11.38it/s]\n"
          ]
        },
        {
          "output_type": "stream",
          "name": "stdout",
          "text": [
            "Val Loss: 0.00037 PSNR: 34.36036 PSNR(gT&blur): 33.05639\n",
            "Epoch 83 of 100\n"
          ]
        },
        {
          "output_type": "stream",
          "name": "stderr",
          "text": [
            "100%|██████████| 45/45 [00:05<00:00,  8.16it/s]\n"
          ]
        },
        {
          "output_type": "stream",
          "name": "stdout",
          "text": [
            "Train Loss: 0.00031 PSNR: 35.28287 PSNR(gT&blur): 33.41524\n"
          ]
        },
        {
          "output_type": "stream",
          "name": "stderr",
          "text": [
            "100%|██████████| 6/6 [00:00<00:00, 11.03it/s]\n"
          ]
        },
        {
          "output_type": "stream",
          "name": "stdout",
          "text": [
            "Val Loss: 0.00036 PSNR: 34.41887 PSNR(gT&blur): 33.05639\n",
            "Epoch 84 of 100\n"
          ]
        },
        {
          "output_type": "stream",
          "name": "stderr",
          "text": [
            "100%|██████████| 45/45 [00:05<00:00,  8.08it/s]\n"
          ]
        },
        {
          "output_type": "stream",
          "name": "stdout",
          "text": [
            "Train Loss: 0.00031 PSNR: 35.31166 PSNR(gT&blur): 33.40506\n"
          ]
        },
        {
          "output_type": "stream",
          "name": "stderr",
          "text": [
            "100%|██████████| 6/6 [00:00<00:00, 10.97it/s]\n"
          ]
        },
        {
          "output_type": "stream",
          "name": "stdout",
          "text": [
            "Val Loss: 0.00036 PSNR: 34.50195 PSNR(gT&blur): 33.05639\n",
            "Epoch 85 of 100\n"
          ]
        },
        {
          "output_type": "stream",
          "name": "stderr",
          "text": [
            "100%|██████████| 45/45 [00:05<00:00,  7.98it/s]\n"
          ]
        },
        {
          "output_type": "stream",
          "name": "stdout",
          "text": [
            "Train Loss: 0.00031 PSNR: 35.29050 PSNR(gT&blur): 33.83365\n"
          ]
        },
        {
          "output_type": "stream",
          "name": "stderr",
          "text": [
            "100%|██████████| 6/6 [00:00<00:00, 10.99it/s]\n"
          ]
        },
        {
          "output_type": "stream",
          "name": "stdout",
          "text": [
            "Val Loss: 0.00036 PSNR: 34.47626 PSNR(gT&blur): 33.05639\n",
            "Epoch 86 of 100\n"
          ]
        },
        {
          "output_type": "stream",
          "name": "stderr",
          "text": [
            "100%|██████████| 45/45 [00:05<00:00,  7.95it/s]\n"
          ]
        },
        {
          "output_type": "stream",
          "name": "stdout",
          "text": [
            "Train Loss: 0.00032 PSNR: 35.23169 PSNR(gT&blur): 30.64627\n"
          ]
        },
        {
          "output_type": "stream",
          "name": "stderr",
          "text": [
            "100%|██████████| 6/6 [00:00<00:00, 11.02it/s]\n"
          ]
        },
        {
          "output_type": "stream",
          "name": "stdout",
          "text": [
            "Val Loss: 0.00037 PSNR: 34.31331 PSNR(gT&blur): 33.05639\n",
            "Epoch 87 of 100\n"
          ]
        },
        {
          "output_type": "stream",
          "name": "stderr",
          "text": [
            "100%|██████████| 45/45 [00:05<00:00,  8.13it/s]\n"
          ]
        },
        {
          "output_type": "stream",
          "name": "stdout",
          "text": [
            "Train Loss: 0.00034 PSNR: 34.96003 PSNR(gT&blur): 31.36493\n"
          ]
        },
        {
          "output_type": "stream",
          "name": "stderr",
          "text": [
            "100%|██████████| 6/6 [00:00<00:00, 10.98it/s]\n"
          ]
        },
        {
          "output_type": "stream",
          "name": "stdout",
          "text": [
            "Val Loss: 0.00043 PSNR: 33.70954 PSNR(gT&blur): 33.05639\n",
            "Epoch 88 of 100\n"
          ]
        },
        {
          "output_type": "stream",
          "name": "stderr",
          "text": [
            "100%|██████████| 45/45 [00:05<00:00,  8.06it/s]\n"
          ]
        },
        {
          "output_type": "stream",
          "name": "stdout",
          "text": [
            "Train Loss: 0.00033 PSNR: 35.04383 PSNR(gT&blur): 33.36995\n"
          ]
        },
        {
          "output_type": "stream",
          "name": "stderr",
          "text": [
            "100%|██████████| 6/6 [00:00<00:00, 11.22it/s]\n"
          ]
        },
        {
          "output_type": "stream",
          "name": "stdout",
          "text": [
            "Val Loss: 0.00042 PSNR: 33.82399 PSNR(gT&blur): 33.05639\n",
            "Epoch 89 of 100\n"
          ]
        },
        {
          "output_type": "stream",
          "name": "stderr",
          "text": [
            "100%|██████████| 45/45 [00:05<00:00,  7.99it/s]\n"
          ]
        },
        {
          "output_type": "stream",
          "name": "stdout",
          "text": [
            "Train Loss: 0.00034 PSNR: 34.95116 PSNR(gT&blur): 33.45093\n"
          ]
        },
        {
          "output_type": "stream",
          "name": "stderr",
          "text": [
            "100%|██████████| 6/6 [00:00<00:00, 11.18it/s]\n"
          ]
        },
        {
          "output_type": "stream",
          "name": "stdout",
          "text": [
            "Val Loss: 0.00042 PSNR: 33.76605 PSNR(gT&blur): 33.05639\n",
            "Epoch 90 of 100\n"
          ]
        },
        {
          "output_type": "stream",
          "name": "stderr",
          "text": [
            "100%|██████████| 45/45 [00:05<00:00,  8.18it/s]\n"
          ]
        },
        {
          "output_type": "stream",
          "name": "stdout",
          "text": [
            "Train Loss: 0.00031 PSNR: 35.35223 PSNR(gT&blur): 29.20485\n"
          ]
        },
        {
          "output_type": "stream",
          "name": "stderr",
          "text": [
            "100%|██████████| 6/6 [00:00<00:00, 11.15it/s]\n"
          ]
        },
        {
          "output_type": "stream",
          "name": "stdout",
          "text": [
            "Val Loss: 0.00036 PSNR: 34.52954 PSNR(gT&blur): 33.05639\n",
            "Epoch 91 of 100\n"
          ]
        },
        {
          "output_type": "stream",
          "name": "stderr",
          "text": [
            "100%|██████████| 45/45 [00:05<00:00,  8.12it/s]\n"
          ]
        },
        {
          "output_type": "stream",
          "name": "stdout",
          "text": [
            "Train Loss: 0.00030 PSNR: 35.45407 PSNR(gT&blur): 30.64627\n"
          ]
        },
        {
          "output_type": "stream",
          "name": "stderr",
          "text": [
            "100%|██████████| 6/6 [00:00<00:00, 10.99it/s]\n"
          ]
        },
        {
          "output_type": "stream",
          "name": "stdout",
          "text": [
            "Val Loss: 0.00035 PSNR: 34.59401 PSNR(gT&blur): 33.05639\n",
            "Epoch 92 of 100\n"
          ]
        },
        {
          "output_type": "stream",
          "name": "stderr",
          "text": [
            "100%|██████████| 45/45 [00:05<00:00,  8.10it/s]\n"
          ]
        },
        {
          "output_type": "stream",
          "name": "stdout",
          "text": [
            "Train Loss: 0.00035 PSNR: 34.85552 PSNR(gT&blur): 33.41524\n"
          ]
        },
        {
          "output_type": "stream",
          "name": "stderr",
          "text": [
            "100%|██████████| 6/6 [00:00<00:00, 11.08it/s]\n"
          ]
        },
        {
          "output_type": "stream",
          "name": "stdout",
          "text": [
            "Val Loss: 0.00038 PSNR: 34.20111 PSNR(gT&blur): 33.05639\n",
            "Epoch 93 of 100\n"
          ]
        },
        {
          "output_type": "stream",
          "name": "stderr",
          "text": [
            "100%|██████████| 45/45 [00:05<00:00,  8.08it/s]\n"
          ]
        },
        {
          "output_type": "stream",
          "name": "stdout",
          "text": [
            "Train Loss: 0.00031 PSNR: 35.29606 PSNR(gT&blur): 30.34356\n"
          ]
        },
        {
          "output_type": "stream",
          "name": "stderr",
          "text": [
            "100%|██████████| 6/6 [00:00<00:00, 11.05it/s]\n"
          ]
        },
        {
          "output_type": "stream",
          "name": "stdout",
          "text": [
            "Val Loss: 0.00034 PSNR: 34.66924 PSNR(gT&blur): 33.05639\n",
            "Epoch 94 of 100\n"
          ]
        },
        {
          "output_type": "stream",
          "name": "stderr",
          "text": [
            "100%|██████████| 45/45 [00:05<00:00,  8.15it/s]\n"
          ]
        },
        {
          "output_type": "stream",
          "name": "stdout",
          "text": [
            "Train Loss: 0.00029 PSNR: 35.56419 PSNR(gT&blur): 30.58374\n"
          ]
        },
        {
          "output_type": "stream",
          "name": "stderr",
          "text": [
            "100%|██████████| 6/6 [00:00<00:00, 11.08it/s]\n"
          ]
        },
        {
          "output_type": "stream",
          "name": "stdout",
          "text": [
            "Val Loss: 0.00036 PSNR: 34.42569 PSNR(gT&blur): 33.05639\n",
            "Epoch 95 of 100\n"
          ]
        },
        {
          "output_type": "stream",
          "name": "stderr",
          "text": [
            "100%|██████████| 45/45 [00:05<00:00,  8.24it/s]\n"
          ]
        },
        {
          "output_type": "stream",
          "name": "stdout",
          "text": [
            "Train Loss: 0.00034 PSNR: 34.91562 PSNR(gT&blur): 29.88633\n"
          ]
        },
        {
          "output_type": "stream",
          "name": "stderr",
          "text": [
            "100%|██████████| 6/6 [00:00<00:00, 10.86it/s]\n"
          ]
        },
        {
          "output_type": "stream",
          "name": "stdout",
          "text": [
            "Val Loss: 0.00038 PSNR: 34.23358 PSNR(gT&blur): 33.05639\n",
            "Epoch 96 of 100\n"
          ]
        },
        {
          "output_type": "stream",
          "name": "stderr",
          "text": [
            "100%|██████████| 45/45 [00:05<00:00,  8.12it/s]\n"
          ]
        },
        {
          "output_type": "stream",
          "name": "stdout",
          "text": [
            "Train Loss: 0.00056 PSNR: 33.12575 PSNR(gT&blur): 30.54099\n"
          ]
        },
        {
          "output_type": "stream",
          "name": "stderr",
          "text": [
            "100%|██████████| 6/6 [00:00<00:00, 10.71it/s]\n"
          ]
        },
        {
          "output_type": "stream",
          "name": "stdout",
          "text": [
            "Val Loss: 0.00064 PSNR: 32.07673 PSNR(gT&blur): 33.05639\n",
            "Epoch 97 of 100\n"
          ]
        },
        {
          "output_type": "stream",
          "name": "stderr",
          "text": [
            "100%|██████████| 45/45 [00:05<00:00,  8.13it/s]\n"
          ]
        },
        {
          "output_type": "stream",
          "name": "stdout",
          "text": [
            "Train Loss: 0.00061 PSNR: 32.68296 PSNR(gT&blur): 33.41524\n"
          ]
        },
        {
          "output_type": "stream",
          "name": "stderr",
          "text": [
            "100%|██████████| 6/6 [00:00<00:00, 10.94it/s]\n"
          ]
        },
        {
          "output_type": "stream",
          "name": "stdout",
          "text": [
            "Val Loss: 0.00176 PSNR: 27.67753 PSNR(gT&blur): 33.05639\n",
            "Epoch 98 of 100\n"
          ]
        },
        {
          "output_type": "stream",
          "name": "stderr",
          "text": [
            "100%|██████████| 45/45 [00:05<00:00,  8.19it/s]\n"
          ]
        },
        {
          "output_type": "stream",
          "name": "stdout",
          "text": [
            "Train Loss: 0.00044 PSNR: 33.86085 PSNR(gT&blur): 33.45093\n"
          ]
        },
        {
          "output_type": "stream",
          "name": "stderr",
          "text": [
            "100%|██████████| 6/6 [00:00<00:00, 10.66it/s]\n"
          ]
        },
        {
          "output_type": "stream",
          "name": "stdout",
          "text": [
            "Val Loss: 0.00042 PSNR: 33.73743 PSNR(gT&blur): 33.05639\n",
            "Epoch 99 of 100\n"
          ]
        },
        {
          "output_type": "stream",
          "name": "stderr",
          "text": [
            "100%|██████████| 45/45 [00:05<00:00,  7.98it/s]\n"
          ]
        },
        {
          "output_type": "stream",
          "name": "stdout",
          "text": [
            "Train Loss: 0.00037 PSNR: 34.51639 PSNR(gT&blur): 30.57756\n"
          ]
        },
        {
          "output_type": "stream",
          "name": "stderr",
          "text": [
            "100%|██████████| 6/6 [00:00<00:00, 10.84it/s]\n"
          ]
        },
        {
          "output_type": "stream",
          "name": "stdout",
          "text": [
            "Val Loss: 0.00036 PSNR: 34.50129 PSNR(gT&blur): 33.05639\n",
            "Epoch   173: reducing learning rate of group 0 to 2.5000e-04.\n",
            "Epoch 100 of 100\n"
          ]
        },
        {
          "output_type": "stream",
          "name": "stderr",
          "text": [
            "100%|██████████| 45/45 [00:05<00:00,  8.06it/s]\n"
          ]
        },
        {
          "output_type": "stream",
          "name": "stdout",
          "text": [
            "Train Loss: 0.00029 PSNR: 35.57488 PSNR(gT&blur): 33.45093\n"
          ]
        },
        {
          "output_type": "stream",
          "name": "stderr",
          "text": [
            "100%|██████████| 6/6 [00:00<00:00, 10.27it/s]"
          ]
        },
        {
          "output_type": "stream",
          "name": "stdout",
          "text": [
            "Val Loss: 0.00034 PSNR: 34.73427 PSNR(gT&blur): 33.05639\n",
            "Took 10.098 minutes to train\n"
          ]
        },
        {
          "output_type": "stream",
          "name": "stderr",
          "text": [
            "\n"
          ]
        }
      ]
    },
    {
      "cell_type": "code",
      "metadata": {
        "colab": {
          "base_uri": "https://localhost:8080/",
          "height": 459
        },
        "id": "SZZ-6mtcngBR",
        "outputId": "33433a77-5d4a-416c-98b6-7174fcc0e775"
      },
      "source": [
        "  # loss plots\n",
        "plt.figure(figsize=(10, 7))\n",
        "plt.plot(train_loss, color='orange', label='train loss')\n",
        "plt.plot(val_loss, color='red', label='validataion loss')\n",
        "plt.xlabel('Epochs')\n",
        "plt.ylabel('Loss')\n",
        "plt.legend()\n",
        "plt.savefig('/content/drive/MyDrive/50Output/loss.png')\n",
        "plt.show()\n",
        "# save the model to disk\n",
        "print('Saving model...')\n",
        "torch.save(model.state_dict(), '/content/drive/MyDrive/50Output/model.pth')"
      ],
      "execution_count": null,
      "outputs": [
        {
          "output_type": "display_data",
          "data": {
            "image/png": "[encoded data removed]",
            "text/plain": [
              "<Figure size 720x504 with 1 Axes>"
            ]
          },
          "metadata": {
            "needs_background": "light"
          }
        },
        {
          "output_type": "stream",
          "name": "stdout",
          "text": [
            "Saving model...\n"
          ]
        }
      ]
    },
    {
      "cell_type": "code",
      "metadata": {
        "id": "nxDwIAvA5Tlb"
      },
      "source": [
        ""
      ],
      "execution_count": null,
      "outputs": []
    }
  ]
}